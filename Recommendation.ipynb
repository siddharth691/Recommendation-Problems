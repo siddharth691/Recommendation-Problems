{
 "cells": [
  {
   "cell_type": "markdown",
   "metadata": {},
   "source": [
    "# Alternating Least Square Formulation Recommender Systems\n",
    "Simple user and item latent factor based matrix factorization algorithm\n",
    "Dataset used: MovieLens dataset\n",
    "Source: https://grouplens.org/datasets/movielens/\n",
    "Algo is coded for very small datasets"
   ]
  },
  {
   "cell_type": "code",
   "execution_count": 113,
   "metadata": {
    "collapsed": true
   },
   "outputs": [],
   "source": [
    "import pandas as pd\n",
    "import numpy as np\n",
    "import matplotlib.pyplot as plt"
   ]
  },
  {
   "cell_type": "code",
   "execution_count": 156,
   "metadata": {
    "collapsed": false
   },
   "outputs": [
    {
     "data": {
      "text/html": [
       "<div>\n",
       "<table border=\"1\" class=\"dataframe\">\n",
       "  <thead>\n",
       "    <tr style=\"text-align: right;\">\n",
       "      <th></th>\n",
       "      <th>movieId</th>\n",
       "      <th>title</th>\n",
       "      <th>genres</th>\n",
       "    </tr>\n",
       "  </thead>\n",
       "  <tbody>\n",
       "    <tr>\n",
       "      <th>0</th>\n",
       "      <td>1</td>\n",
       "      <td>Toy Story (1995)</td>\n",
       "      <td>Adventure|Animation|Children|Comedy|Fantasy</td>\n",
       "    </tr>\n",
       "    <tr>\n",
       "      <th>1</th>\n",
       "      <td>2</td>\n",
       "      <td>Jumanji (1995)</td>\n",
       "      <td>Adventure|Children|Fantasy</td>\n",
       "    </tr>\n",
       "    <tr>\n",
       "      <th>2</th>\n",
       "      <td>3</td>\n",
       "      <td>Grumpier Old Men (1995)</td>\n",
       "      <td>Comedy|Romance</td>\n",
       "    </tr>\n",
       "    <tr>\n",
       "      <th>3</th>\n",
       "      <td>4</td>\n",
       "      <td>Waiting to Exhale (1995)</td>\n",
       "      <td>Comedy|Drama|Romance</td>\n",
       "    </tr>\n",
       "    <tr>\n",
       "      <th>4</th>\n",
       "      <td>5</td>\n",
       "      <td>Father of the Bride Part II (1995)</td>\n",
       "      <td>Comedy</td>\n",
       "    </tr>\n",
       "  </tbody>\n",
       "</table>\n",
       "</div>"
      ],
      "text/plain": [
       "   movieId                               title  \\\n",
       "0        1                    Toy Story (1995)   \n",
       "1        2                      Jumanji (1995)   \n",
       "2        3             Grumpier Old Men (1995)   \n",
       "3        4            Waiting to Exhale (1995)   \n",
       "4        5  Father of the Bride Part II (1995)   \n",
       "\n",
       "                                        genres  \n",
       "0  Adventure|Animation|Children|Comedy|Fantasy  \n",
       "1                   Adventure|Children|Fantasy  \n",
       "2                               Comedy|Romance  \n",
       "3                         Comedy|Drama|Romance  \n",
       "4                                       Comedy  "
      ]
     },
     "execution_count": 156,
     "metadata": {},
     "output_type": "execute_result"
    }
   ],
   "source": [
    "#Loading MovieLens Dataset\n",
    "tags = pd.read_csv('MovieLens Data/ml-20m/tags.csv')\n",
    "ratings = pd.read_csv('MovieLens Data/ml-20m/ratings.csv', sep=',')\n",
    "movies = pd.read_csv('MovieLens Data/ml-20m/movies.csv')\n",
    "movies.head()"
   ]
  },
  {
   "cell_type": "code",
   "execution_count": 166,
   "metadata": {
    "collapsed": false
   },
   "outputs": [],
   "source": [
    "movies = movies.iloc[0:2000,:]"
   ]
  },
  {
   "cell_type": "code",
   "execution_count": 167,
   "metadata": {
    "collapsed": false
   },
   "outputs": [],
   "source": [
    "movie_titles = movies.title.tolist()"
   ]
  },
  {
   "cell_type": "code",
   "execution_count": 168,
   "metadata": {
    "collapsed": false
   },
   "outputs": [
    {
     "name": "stdout",
     "output_type": "stream",
     "text": [
      "Index(['userId', 'movieId', 'tag', 'timestamp'], dtype='object')\n",
      "Index(['userId', 'movieId', 'rating', 'timestamp'], dtype='object')\n",
      "Index(['movieId', 'title', 'genres'], dtype='object')\n"
     ]
    }
   ],
   "source": [
    "print(tags.columns)\n",
    "print(ratings.columns)\n",
    "print(movies.columns)"
   ]
  },
  {
   "cell_type": "code",
   "execution_count": 169,
   "metadata": {
    "collapsed": false
   },
   "outputs": [],
   "source": [
    "#Create a combined movie dataframe\n",
    "#And remove unnecessary columns\n",
    "df = movies.join(ratings, on = ['movieId'],rsuffix='_r').join(tags, on =['movieId'],rsuffix = '_t').drop(['movieId_r','userId_t','movieId_t','timestamp_t'], axis=1)"
   ]
  },
  {
   "cell_type": "code",
   "execution_count": 170,
   "metadata": {
    "collapsed": false
   },
   "outputs": [
    {
     "name": "stdout",
     "output_type": "stream",
     "text": [
      "(19, 2000)\n"
     ]
    },
    {
     "data": {
      "text/html": [
       "<div>\n",
       "<table border=\"1\" class=\"dataframe\">\n",
       "  <thead>\n",
       "    <tr style=\"text-align: right;\">\n",
       "      <th>movieId</th>\n",
       "      <th>1</th>\n",
       "      <th>2</th>\n",
       "      <th>3</th>\n",
       "      <th>4</th>\n",
       "      <th>5</th>\n",
       "      <th>6</th>\n",
       "      <th>7</th>\n",
       "      <th>8</th>\n",
       "      <th>9</th>\n",
       "      <th>10</th>\n",
       "      <th>...</th>\n",
       "      <th>2074</th>\n",
       "      <th>2075</th>\n",
       "      <th>2076</th>\n",
       "      <th>2077</th>\n",
       "      <th>2078</th>\n",
       "      <th>2079</th>\n",
       "      <th>2080</th>\n",
       "      <th>2081</th>\n",
       "      <th>2082</th>\n",
       "      <th>2083</th>\n",
       "    </tr>\n",
       "    <tr>\n",
       "      <th>userId</th>\n",
       "      <th></th>\n",
       "      <th></th>\n",
       "      <th></th>\n",
       "      <th></th>\n",
       "      <th></th>\n",
       "      <th></th>\n",
       "      <th></th>\n",
       "      <th></th>\n",
       "      <th></th>\n",
       "      <th></th>\n",
       "      <th></th>\n",
       "      <th></th>\n",
       "      <th></th>\n",
       "      <th></th>\n",
       "      <th></th>\n",
       "      <th></th>\n",
       "      <th></th>\n",
       "      <th></th>\n",
       "      <th></th>\n",
       "      <th></th>\n",
       "      <th></th>\n",
       "    </tr>\n",
       "  </thead>\n",
       "  <tbody>\n",
       "    <tr>\n",
       "      <th>1</th>\n",
       "      <td>3.5</td>\n",
       "      <td>3.5</td>\n",
       "      <td>3.5</td>\n",
       "      <td>3.5</td>\n",
       "      <td>3.5</td>\n",
       "      <td>4.0</td>\n",
       "      <td>4.0</td>\n",
       "      <td>4.0</td>\n",
       "      <td>4.0</td>\n",
       "      <td>4.0</td>\n",
       "      <td>...</td>\n",
       "      <td>0.0</td>\n",
       "      <td>0.0</td>\n",
       "      <td>0.0</td>\n",
       "      <td>0.0</td>\n",
       "      <td>0.0</td>\n",
       "      <td>0.0</td>\n",
       "      <td>0.0</td>\n",
       "      <td>0.0</td>\n",
       "      <td>0.0</td>\n",
       "      <td>0.0</td>\n",
       "    </tr>\n",
       "    <tr>\n",
       "      <th>2</th>\n",
       "      <td>0.0</td>\n",
       "      <td>0.0</td>\n",
       "      <td>0.0</td>\n",
       "      <td>0.0</td>\n",
       "      <td>0.0</td>\n",
       "      <td>0.0</td>\n",
       "      <td>0.0</td>\n",
       "      <td>0.0</td>\n",
       "      <td>0.0</td>\n",
       "      <td>0.0</td>\n",
       "      <td>...</td>\n",
       "      <td>0.0</td>\n",
       "      <td>0.0</td>\n",
       "      <td>0.0</td>\n",
       "      <td>0.0</td>\n",
       "      <td>0.0</td>\n",
       "      <td>0.0</td>\n",
       "      <td>0.0</td>\n",
       "      <td>0.0</td>\n",
       "      <td>0.0</td>\n",
       "      <td>0.0</td>\n",
       "    </tr>\n",
       "    <tr>\n",
       "      <th>3</th>\n",
       "      <td>0.0</td>\n",
       "      <td>0.0</td>\n",
       "      <td>0.0</td>\n",
       "      <td>0.0</td>\n",
       "      <td>0.0</td>\n",
       "      <td>0.0</td>\n",
       "      <td>0.0</td>\n",
       "      <td>0.0</td>\n",
       "      <td>0.0</td>\n",
       "      <td>0.0</td>\n",
       "      <td>...</td>\n",
       "      <td>0.0</td>\n",
       "      <td>0.0</td>\n",
       "      <td>0.0</td>\n",
       "      <td>0.0</td>\n",
       "      <td>0.0</td>\n",
       "      <td>0.0</td>\n",
       "      <td>0.0</td>\n",
       "      <td>0.0</td>\n",
       "      <td>0.0</td>\n",
       "      <td>0.0</td>\n",
       "    </tr>\n",
       "    <tr>\n",
       "      <th>4</th>\n",
       "      <td>0.0</td>\n",
       "      <td>0.0</td>\n",
       "      <td>0.0</td>\n",
       "      <td>0.0</td>\n",
       "      <td>0.0</td>\n",
       "      <td>0.0</td>\n",
       "      <td>0.0</td>\n",
       "      <td>0.0</td>\n",
       "      <td>0.0</td>\n",
       "      <td>0.0</td>\n",
       "      <td>...</td>\n",
       "      <td>0.0</td>\n",
       "      <td>0.0</td>\n",
       "      <td>0.0</td>\n",
       "      <td>0.0</td>\n",
       "      <td>0.0</td>\n",
       "      <td>0.0</td>\n",
       "      <td>0.0</td>\n",
       "      <td>0.0</td>\n",
       "      <td>0.0</td>\n",
       "      <td>0.0</td>\n",
       "    </tr>\n",
       "    <tr>\n",
       "      <th>5</th>\n",
       "      <td>0.0</td>\n",
       "      <td>0.0</td>\n",
       "      <td>0.0</td>\n",
       "      <td>0.0</td>\n",
       "      <td>0.0</td>\n",
       "      <td>0.0</td>\n",
       "      <td>0.0</td>\n",
       "      <td>0.0</td>\n",
       "      <td>0.0</td>\n",
       "      <td>0.0</td>\n",
       "      <td>...</td>\n",
       "      <td>0.0</td>\n",
       "      <td>0.0</td>\n",
       "      <td>0.0</td>\n",
       "      <td>0.0</td>\n",
       "      <td>0.0</td>\n",
       "      <td>0.0</td>\n",
       "      <td>0.0</td>\n",
       "      <td>0.0</td>\n",
       "      <td>0.0</td>\n",
       "      <td>0.0</td>\n",
       "    </tr>\n",
       "  </tbody>\n",
       "</table>\n",
       "<p>5 rows × 2000 columns</p>\n",
       "</div>"
      ],
      "text/plain": [
       "movieId  1     2     3     4     5     6     7     8     9     10    ...   \\\n",
       "userId                                                               ...    \n",
       "1         3.5   3.5   3.5   3.5   3.5   4.0   4.0   4.0   4.0   4.0  ...    \n",
       "2         0.0   0.0   0.0   0.0   0.0   0.0   0.0   0.0   0.0   0.0  ...    \n",
       "3         0.0   0.0   0.0   0.0   0.0   0.0   0.0   0.0   0.0   0.0  ...    \n",
       "4         0.0   0.0   0.0   0.0   0.0   0.0   0.0   0.0   0.0   0.0  ...    \n",
       "5         0.0   0.0   0.0   0.0   0.0   0.0   0.0   0.0   0.0   0.0  ...    \n",
       "\n",
       "movieId  2074  2075  2076  2077  2078  2079  2080  2081  2082  2083  \n",
       "userId                                                               \n",
       "1         0.0   0.0   0.0   0.0   0.0   0.0   0.0   0.0   0.0   0.0  \n",
       "2         0.0   0.0   0.0   0.0   0.0   0.0   0.0   0.0   0.0   0.0  \n",
       "3         0.0   0.0   0.0   0.0   0.0   0.0   0.0   0.0   0.0   0.0  \n",
       "4         0.0   0.0   0.0   0.0   0.0   0.0   0.0   0.0   0.0   0.0  \n",
       "5         0.0   0.0   0.0   0.0   0.0   0.0   0.0   0.0   0.0   0.0  \n",
       "\n",
       "[5 rows x 2000 columns]"
      ]
     },
     "execution_count": 170,
     "metadata": {},
     "output_type": "execute_result"
    }
   ],
   "source": [
    "#Create a ratings table for all userId and movieId, and fill not rated movies with 0\n",
    "rp = df.pivot_table(columns=['movieId'],index=['userId'],values='rating').fillna(0)\n",
    "print(rp.shape)\n",
    "#Thus 718 users and 27278 items in ratings table rp\n",
    "rp.head()"
   ]
  },
  {
   "cell_type": "code",
   "execution_count": 171,
   "metadata": {
    "collapsed": true
   },
   "outputs": [],
   "source": [
    "#Define matrixes and parameters \n",
    "Q = rp.values #Output ratings matrix\n",
    "W = Q>0.5 # Mask matrix where user have given a rating\n",
    "W[W==True] = 1\n",
    "W[W==False] = 0\n",
    "W = W.astype(np.float64, copy=False)\n",
    "lambda_ = 0.1 #Regularization parameter\n",
    "n_factors = 100 #Number of features or number of latent factors\n",
    "m, n = Q.shape #m-- number of users, n-- number of movies\n",
    "n_iterations = 20 #number of iterations"
   ]
  },
  {
   "cell_type": "code",
   "execution_count": 172,
   "metadata": {
    "collapsed": true
   },
   "outputs": [],
   "source": [
    "#Recommender class\n",
    "class ALS:\n",
    "    def __init__(self, W, lambda_ =0.01, n_iterations= 20, n_factors =100):\n",
    "        self.mask = W\n",
    "        self.lambda_ =lambda_\n",
    "        self.n_iterations =n_iterations\n",
    "        self.n_factors = n_factors\n",
    "\n",
    "    def LSE_error(self,Q, pred):\n",
    "        return np.sum((self.mask * (Q - pred))**2)\n",
    "\n",
    "    def fit(self, Q, show =False):\n",
    "        import numpy as np\n",
    "        #Initialization\n",
    "        X = 5 * np.random.rand(Q.shape[0], self.n_factors)\n",
    "        Y = 5 * np.random.rand(self.n_factors, Q.shape[1])\n",
    "        self.weighted_errors = []\n",
    "        for ii in range(self.n_iterations):\n",
    "            for u, Wu in enumerate(self.mask):\n",
    "                X[u] = np.linalg.solve(np.dot(Y, np.dot(np.diag(Wu), Y.T)) + self.lambda_ * np.eye(self.n_factors),np.dot(Y, np.dot(np.diag(Wu), Q[u].T))).T\n",
    "            for i, Wi in enumerate(self.mask.T):\n",
    "                Y[:,i] = np.linalg.solve(np.dot(X.T, np.dot(np.diag(Wi), X)) + self.lambda_ * np.eye(self.n_factors),np.dot(X.T, np.dot(np.diag(Wi), Q[:, i])))\n",
    "            self.weighted_errors.append(self.LSE_error(Q, np.dot(X,Y)))\n",
    "            if(show==True):\n",
    "                print('{}th iteration is completed'.format(ii))\n",
    "        self.coefX = X\n",
    "        self.coefY = Y\n",
    "        self.Q_hat = np.dot(X,Y)\n",
    "        return self\n",
    "\n",
    "    def predict_recommendation(self, userIds, movie_titles=movie_titles):\n",
    "        from collections import namedtuple\n",
    "        self.Q_hat -= np.min(self.Q_hat)\n",
    "        self.Q_hat *= float(5) / np.max(self.Q_hat)\n",
    "        movie_ids = np.argmax(self.Q_hat - 5 * self.mask, axis=1)\n",
    "        movie_ids = [movie_ids[ind-1] for ind in userIds]\n",
    "        recommendation = []\n",
    "        for user_id, movie_id in zip(userIds, movie_ids):\n",
    "            Recommendation = namedtuple('Recommendation', 'UserId MovieId MovieTitle PredictedRating')\n",
    "            Recommendation.UserId = user_id\n",
    "            Recommendation.MovieId = movie_id\n",
    "            Recommendation.MovieTitle = movie_titles[movie_id-1]\n",
    "            Recommendation.PredictedRating = self.Q_hat[user_id-1][movie_id-1]\n",
    "            recommendation.append(Recommendation)\n",
    "        return recommendation"
   ]
  },
  {
   "cell_type": "code",
   "execution_count": 173,
   "metadata": {
    "collapsed": false
   },
   "outputs": [
    {
     "name": "stdout",
     "output_type": "stream",
     "text": [
      "0th iteration is completed\n",
      "1th iteration is completed\n",
      "2th iteration is completed\n",
      "3th iteration is completed\n",
      "4th iteration is completed\n",
      "5th iteration is completed\n",
      "6th iteration is completed\n",
      "7th iteration is completed\n",
      "8th iteration is completed\n",
      "9th iteration is completed\n",
      "10th iteration is completed\n",
      "11th iteration is completed\n",
      "12th iteration is completed\n",
      "13th iteration is completed\n",
      "14th iteration is completed\n",
      "15th iteration is completed\n",
      "16th iteration is completed\n",
      "17th iteration is completed\n",
      "18th iteration is completed\n",
      "19th iteration is completed\n"
     ]
    }
   ],
   "source": [
    "#Model fitting\n",
    "als = ALS(W)\n",
    "model = als.fit(Q, show=True)"
   ]
  },
  {
   "cell_type": "code",
   "execution_count": 174,
   "metadata": {
    "collapsed": false
   },
   "outputs": [
    {
     "data": {
      "image/png": "[encoded data removed]",
      "text/plain": [
       "<matplotlib.figure.Figure at 0x297025a8b00>"
      ]
     },
     "metadata": {},
     "output_type": "display_data"
    }
   ],
   "source": [
    "#Plot error vs iteration\n",
    "plt.plot(model.weighted_errors);\n",
    "plt.xlabel('Iteration Number');\n",
    "plt.ylabel('Mean Squared Error');\n",
    "plt.show()"
   ]
  },
  {
   "cell_type": "code",
   "execution_count": 177,
   "metadata": {
    "collapsed": false
   },
   "outputs": [
    {
     "name": "stdout",
     "output_type": "stream",
     "text": [
      "UserID: 1\n",
      "Recommendation\n",
      "MovieId: 1427\n",
      "MovieTitle: That Old Feeling (1997)\n",
      "Predicted Rating: 1.0519001819859586\n",
      "----------------\n",
      "UserID: 2\n",
      "Recommendation\n",
      "MovieId: 513\n",
      "MovieTitle: Renaissance Man (1994)\n",
      "Predicted Rating: 0.8614111706924718\n",
      "----------------\n",
      "UserID: 3\n",
      "Recommendation\n",
      "MovieId: 1977\n",
      "MovieTitle: BASEketball (1998)\n",
      "Predicted Rating: 0.7981074247409237\n",
      "----------------\n",
      "UserID: 4\n",
      "Recommendation\n",
      "MovieId: 513\n",
      "MovieTitle: Renaissance Man (1994)\n",
      "Predicted Rating: 1.5693882099046723\n",
      "----------------\n",
      "UserID: 5\n",
      "Recommendation\n",
      "MovieId: 435\n",
      "MovieTitle: Cowboy Way, The (1994)\n",
      "Predicted Rating: 2.147011468127358\n",
      "----------------\n",
      "UserID: 6\n",
      "Recommendation\n",
      "MovieId: 946\n",
      "MovieTitle: They Made Me a Criminal (I Became a Criminal) (They Made Me a Fugitive) (1939)\n",
      "Predicted Rating: 1.8005324525172677\n",
      "----------------\n",
      "UserID: 7\n",
      "Recommendation\n",
      "MovieId: 910\n",
      "MovieTitle: All About Eve (1950)\n",
      "Predicted Rating: 1.7745897239571413\n",
      "----------------\n",
      "UserID: 8\n",
      "Recommendation\n",
      "MovieId: 871\n",
      "MovieTitle: Talk of Angels (1998)\n",
      "Predicted Rating: 2.295648657864163\n",
      "----------------\n",
      "UserID: 9\n",
      "Recommendation\n",
      "MovieId: 513\n",
      "MovieTitle: Renaissance Man (1994)\n",
      "Predicted Rating: 0.4921475994774728\n",
      "----------------\n",
      "UserID: 10\n",
      "Recommendation\n",
      "MovieId: 946\n",
      "MovieTitle: They Made Me a Criminal (I Became a Criminal) (They Made Me a Fugitive) (1939)\n",
      "Predicted Rating: 1.823299920249057\n",
      "----------------\n",
      "UserID: 11\n",
      "Recommendation\n",
      "MovieId: 910\n",
      "MovieTitle: All About Eve (1950)\n",
      "Predicted Rating: 1.698347652497057\n",
      "----------------\n",
      "UserID: 12\n",
      "Recommendation\n",
      "MovieId: 129\n",
      "MovieTitle: Angela (1995)\n",
      "Predicted Rating: 1.9751622734417746\n",
      "----------------\n",
      "UserID: 13\n",
      "Recommendation\n",
      "MovieId: 1833\n",
      "MovieTitle: Buffalo '66 (a.k.a. Buffalo 66) (1998)\n",
      "Predicted Rating: 1.5501501125683423\n",
      "----------------\n",
      "UserID: 14\n",
      "Recommendation\n",
      "MovieId: 435\n",
      "MovieTitle: Cowboy Way, The (1994)\n",
      "Predicted Rating: 1.3905832657382435\n",
      "----------------\n",
      "UserID: 15\n",
      "Recommendation\n",
      "MovieId: 1427\n",
      "MovieTitle: That Old Feeling (1997)\n",
      "Predicted Rating: 0.9619718450784192\n",
      "----------------\n",
      "UserID: 16\n",
      "Recommendation\n",
      "MovieId: 513\n",
      "MovieTitle: Renaissance Man (1994)\n",
      "Predicted Rating: 0.7305180594077905\n",
      "----------------\n",
      "UserID: 17\n",
      "Recommendation\n",
      "MovieId: 435\n",
      "MovieTitle: Cowboy Way, The (1994)\n",
      "Predicted Rating: 1.4776992868925927\n",
      "----------------\n"
     ]
    }
   ],
   "source": [
    "#Recommendation\n",
    "prediction = model.predict_recommendation(movie_titles=movie_titles, userIds=[1,2,3,4,5,6,7,8,9,10,11,12,13,14,15,16,17])\n",
    "for pred in prediction:\n",
    "    print('UserID: {}'.format(pred.UserId))\n",
    "    print('Recommendation')\n",
    "    print('MovieId: {}'.format(pred.MovieId))\n",
    "    print('MovieTitle: {}'.format(pred.MovieTitle))\n",
    "    print('Predicted Rating: {}'.format(pred.PredictedRating))\n",
    "    print('----------------')"
   ]
  },
  {
   "cell_type": "code",
   "execution_count": null,
   "metadata": {
    "collapsed": true
   },
   "outputs": [],
   "source": []
  }
 ],
 "metadata": {
  "anaconda-cloud": {},
  "kernelspec": {
   "display_name": "Python [conda root]",
   "language": "python",
   "name": "conda-root-py"
  },
  "language_info": {
   "codemirror_mode": {
    "name": "ipython",
    "version": 3
   },
   "file_extension": ".py",
   "mimetype": "text/x-python",
   "name": "python",
   "nbconvert_exporter": "python",
   "pygments_lexer": "ipython3",
   "version": "3.5.3"
  }
 },
 "nbformat": 4,
 "nbformat_minor": 1
}
